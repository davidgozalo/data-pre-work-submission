{
 "cells": [
  {
   "cell_type": "markdown",
   "metadata": {},
   "source": [
    "<img src=\"https://bit.ly/2VnXWr2\" width=\"100\" align=\"left\">"
   ]
  },
  {
   "cell_type": "markdown",
   "metadata": {},
   "source": [
    "# Temperature Sensor\n",
    "\n",
    "There is a temperature sensor in the processor of your company's server. The company wants to analyze the data provided by the sensor to decide if they should change the cooling system for a better one. As changing the cooling system is expensive and you are an excellent data analyst, you can't make a decision without basis.\n",
    "\n",
    "## Tools\n",
    "You don't necessarily need to use all the tools. Maybe you opt to use some of them or completely different ones, they are given to help you shape the exercise. Programming exercises can be solved in many different ways.\n",
    "1. Data structures: **lists**\n",
    "2. Loops: **list comprehension**\n",
    "3. Functions: **min, max, print, len**\n",
    "4. Conditional statements: **if-elif-else**\n",
    "\n",
    "## Tasks\n",
    "The temperatures measured throughout the 24 hours of a day are:"
   ]
  },
  {
   "cell_type": "code",
   "execution_count": null,
   "metadata": {},
   "outputs": [],
   "source": [
    "temperatures_C = [33, 66, 65, 0, 59, 60, 62, 64, 70, 76, 80, 81, 80, 83, 90, 79, 61, 53, 50, 49, 53, 48, 45, 39]"
   ]
  },
  {
   "cell_type": "markdown",
   "metadata": {},
   "source": [
    "The first element of the list is the temperature at 12am, the second element is the temperature at 1am, and so on. \n",
    "\n",
    "The company has decided that if one of the following events occurs, then the cooling system needs to be replaced for a new one to avoid damaging the processor.\n",
    "* More than 4 temperatures are greater than or equal to 70ºC.\n",
    "* Any temperature is above 80ºC.\n",
    "* The average temperature exceeds 65ºC.\n",
    "\n",
    "Follow the steps so that you can make the decision.\n",
    "\n",
    "#### 1. Find the minimum temperature of the day and store it in a variable."
   ]
  },
  {
   "cell_type": "code",
   "execution_count": null,
   "metadata": {},
   "outputs": [],
   "source": [
    "# find the minumum temperature of the day and store it in a variable\n",
    "hours=[]\n",
    "for i in range (0, 24):\n",
    "  hour=i\n",
    "  hours.append(i)\n",
    "Temp_C_per_hour={}\n",
    "for i in range (0, 24):\n",
    "    a1=hours[i]\n",
    "    a2=temperatures_C[i]\n",
    "    Temp_C_per_hour[a1]=a2\n",
    "mint=min(temperatures_C)\n",
    "Temp_min={}\n",
    "for i in range (0, 24):\n",
    "  if Temp_C_per_hour[i]==mint:\n",
    "    Temp_min[i]=mint\n",
    "print(\"The minimum temperature of the day is \", mint)\n",
    "print(\"The pair time-temperature is \", Temp_min)\n",
    "print (\"\")"
   ]
  },
  {
   "cell_type": "markdown",
   "metadata": {},
   "source": [
    "#### 2. Find the maximum temperature of the day and store it in a variable."
   ]
  },
  {
   "cell_type": "code",
   "execution_count": null,
   "metadata": {},
   "outputs": [],
   "source": [
    "#find the maximum temperature of the day and store it ina variable\n",
    "maxt=max(temperatures_C)\n",
    "Temp_max={}\n",
    "for i in range (0, 24):\n",
    "  if Temp_C_per_hour[i]==maxt:\n",
    "    Temp_max[i]=maxt\n",
    "print(\"The maximum temperature of the day is \", maxt)\n",
    "print(\"The pair time-temperature is \", Temp_max)\n",
    "print(\"\")"
   ]
  },
  {
   "cell_type": "markdown",
   "metadata": {},
   "source": [
    "#### 3. Create a list with the temperatures that are greater than or equal to 70ºC. Store it in a variable."
   ]
  },
  {
   "cell_type": "code",
   "execution_count": null,
   "metadata": {},
   "outputs": [],
   "source": [
    "#create a list with the temperatures greater than 70. store it in a variable\n",
    "Temp_over70={}\n",
    "for i in range (0, 24):\n",
    "  if Temp_C_per_hour[i]>70:\n",
    "    Temp_over70[i]=Temp_C_per_hour[i]\n",
    "w=len(Temp_over70)\n",
    "print(\"There are\", w, \"hours where temperature exceeds 70\")\n",
    "print(\"The pair time-temperature are \")\n",
    "print (Temp_over70)\n",
    "print (\"\")\n"
   ]
  },
  {
   "cell_type": "markdown",
   "metadata": {},
   "source": [
    "#### 4. Find the average temperature of the day and store it in a variable."
   ]
  },
  {
   "cell_type": "code",
   "execution_count": null,
   "metadata": {},
   "outputs": [],
   "source": [
    "# find the average tempertature of the day and store it in a variable\n",
    "average=sum(temperatures_C)/len(temperatures_C)\n",
    "a=(sum(temperatures_C))\n",
    "b=(len(temperatures_C))\n",
    "fa=float(a)\n",
    "fb=float(b)\n",
    "faverage=(fa/fb)\n",
    "print (\"The average temperature is\", faverage)\n",
    "print(\"\")\n"
   ]
  },
  {
   "cell_type": "markdown",
   "metadata": {},
   "source": [
    "#### 5. Imagine that there was a sensor failure at 3am and the data for that specific hour was not recorded. How would you estimate the missing value? Replace the current value of the list at 3am for an estimation. "
   ]
  },
  {
   "cell_type": "code",
   "execution_count": null,
   "metadata": {},
   "outputs": [],
   "source": [
    "#imagine there was a sensor failure at 3 \n",
    "temperatures_C_est=[]\n",
    "for i in range(0, 24):\n",
    "  if i==0:\n",
    "    et=(temperatures_C[23]+temperatures_C[1])/2\n",
    "  if ((i>0)&(i<23)): \n",
    "    et=(temperatures_C[i-1]+temperatures_C[i+1])/2\n",
    "  if i==23:\n",
    "    et=(temperatures_C[22]+temperatures_C[0])/2\n",
    "  temperatures_C_est.append(et)\n",
    "Temp_C_per_hour_est={}\n",
    "for i in range (0, 24):\n",
    "    a1=hours[i]\n",
    "    a2=temperatures_C_est[i]\n",
    "    Temp_C_per_hour_est[a1]=a2\n",
    "print (\"\")\n",
    "\n",
    "temperatures_C_revised=[]\n",
    "for i in range(0, 24):\n",
    "  if i==3:\n",
    "    et=temperatures_C_est[3]\n",
    "  if i!=3:\n",
    "    et=temperatures_C[i]\n",
    "  temperatures_C_revised.append(et)\n",
    "print\"Should we consider the sensor failed at 3, we would estimate the value by the mean of the side values\"\n",
    "print (\"the pairs time-tempeture for the estimation would be\")\n",
    "print(Temp_C_per_hour_est)\n",
    "print(\"\")\n",
    "print(\"if we update that value in the distripution of temperatures we will get this new distribution\")\n",
    "print (temperatures_C_revised)\n",
    "print(\"\")"
   ]
  },
  {
   "cell_type": "markdown",
   "metadata": {},
   "source": [
    "#### 6. Bonus: the maintenance staff is from the United States and does not understand the international metric system. Help them by converting the temperatures from Celsius to Fahrenheit.\n",
    "To know more about temperature conversion check this [link](https://en.wikipedia.org/wiki/Conversion_of_units_of_temperature).\n",
    "\n",
    "**Formula**: \n",
    "\n",
    "$F = 1.8 * C + 32$"
   ]
  },
  {
   "cell_type": "code",
   "execution_count": null,
   "metadata": {},
   "outputs": [],
   "source": [
    "# change celsius data to farenheit data \n",
    "temperatures_F=[]\n",
    "for i in range(0, 24):\n",
    "  a=temperatures_C[i]\n",
    "  ft=(1.8*a)+32\n",
    "  ftr=round(ft,2)\n",
    "  temperatures_F.append(ftr)\n",
    "print (\"The equivalent Farenheit distribution of temperatures is \")\n",
    "print (temperatures_F)\n",
    "print(\"\")"
   ]
  },
  {
   "cell_type": "markdown",
   "metadata": {},
   "source": [
    "#### 7. Make a decision!\n",
    "Now it's time to make a decision taking into account what you have seen until now. \n",
    "\n",
    "Remember that if one of the following events occurs, then the cooling system needs to be replaced for a new one to avoid damaging the processor.\n",
    "* More than 4 temperatures are greater than or equal to 70ºC.\n",
    "* Any temperature is above 80ºC.\n",
    "* The average temperature exceeds 65ºC.\n",
    "\n",
    "#### To make your decision, check if any of the three conditions above is met. You might need to use some of the variables you created in steps 1 to 6. Print a message to show if the cooling system needs to be changed or not."
   ]
  },
  {
   "cell_type": "code",
   "execution_count": null,
   "metadata": {},
   "outputs": [],
   "source": [
    "#more than 4 temperatures are greater than 70\n",
    "temperatures_over_70_per_hour={}\n",
    "a=0\n",
    "for i in range(0, 24):\n",
    "  if temperatures_C[i]>=70:\n",
    "    a=a+1\n",
    "    temperatures_over_70_per_hour[i]=temperatures_C[i]\n",
    "\n",
    "print (\"There are\", a, \"observations where temperature is equal or over  70\")\n",
    "print(\"The pair time-temperature are \")\n",
    "print(temperatures_over_70_per_hour)\n",
    "if a>4:\n",
    "  print (\"first contition says to change\")\n",
    "  c1=1\n",
    "else:\n",
    "  print (\"first contition says not to change\")\n",
    "  c1=0\n",
    "print(\"\")\n",
    "\n",
    "#one temperature exceeds 80\n",
    "temperatures_over_80_per_hour={}\n",
    "b=0\n",
    "for i in range(0, 24):\n",
    "  if temperatures_C[i]>80:\n",
    "    b=b+1\n",
    "    temperatures_over_80_per_hour[i]=temperatures_C[i]\n",
    "print (\"There are\", b, \"observations where temperature is equal or over  70\")\n",
    "print(\"The pair time-temperature are \")\n",
    "print(temperatures_over_80_per_hour)\n",
    "if a>0:\n",
    "  print (\"second contition says to change\")\n",
    "  c2=1\n",
    "else:\n",
    "  print (\"second contition says not to change\")\n",
    "  c2=0\n",
    "print(\"\")\n",
    "\n",
    "# average temperature exceeds 65\n",
    "average=sum(temperatures_C)/len(temperatures_C)\n",
    "a=(sum(temperatures_C))\n",
    "b=(len(temperatures_C))\n",
    "fa=float(a)\n",
    "fb=float(b)\n",
    "faverage=(fa/fb)\n",
    "print (\"The average temperature is\", faverage)\n",
    "if faverage>65:\n",
    "  print (\"third contition says to change\")\n",
    "  c3=1\n",
    "else:\n",
    "  print (\"third contition says not to change\")\n",
    "  c3=0\n",
    "print(\"\")\n",
    "#print conclussion\n",
    "if (c1+c2+c3)>0:\n",
    "  print (\"given that at least one of the conditions for changing cooling system has ben met, the reccomentation is to change it\")\n",
    "else:\n",
    "  print (\"none of the conditions for changing cooling system has been met, so the reccomentation is to keep it\")"
   ]
  },
  {
   "cell_type": "markdown",
   "metadata": {},
   "source": [
    "## Bonus\n",
    "\n",
    "The company has decided that the decision you made is not valid. They want you to analyze the data again but this time, the conditions that need to be met in order to change the cooling system are different.\n",
    "\n",
    "This time, if one of the following events occurs, then the cooling system needs to be replaced:\n",
    "* The temperature is greater than 70ºC during more than 4 consecutive hours.\n",
    "* Any temperature is above 80ºC.\n",
    "* The average temperature exceeds 65ºC.\n",
    "\n",
    "Follow the steps so that you can make the decision.\n",
    "\n",
    "#### 1. Create a list with the hours where the temperature is greater than 70ºC. Store it in a variable."
   ]
  },
  {
   "cell_type": "code",
   "execution_count": null,
   "metadata": {},
   "outputs": [],
   "source": []
  },
  {
   "cell_type": "markdown",
   "metadata": {},
   "source": [
    "#### 2. Check if the list you created in step 1 has more than 4 consecutive hours. "
   ]
  },
  {
   "cell_type": "code",
   "execution_count": null,
   "metadata": {},
   "outputs": [],
   "source": []
  },
  {
   "cell_type": "markdown",
   "metadata": {},
   "source": [
    "#### 3. Make the decision!\n",
    "To make your decision, check if any of the three conditions is met. Print a message to show if the cooling system needs to be changed or not."
   ]
  },
  {
   "cell_type": "code",
   "execution_count": null,
   "metadata": {},
   "outputs": [],
   "source": []
  },
  {
   "cell_type": "markdown",
   "metadata": {},
   "source": [
    "#### 4. Find the average value of the temperature lists (ºC and ºF). What is the relation between both average values?"
   ]
  },
  {
   "cell_type": "code",
   "execution_count": null,
   "metadata": {},
   "outputs": [],
   "source": []
  },
  {
   "cell_type": "markdown",
   "metadata": {},
   "source": [
    "#### 5. Find the standard deviation of the temperature lists (ºC and ºF). What is the relation between both standard deviations?"
   ]
  },
  {
   "cell_type": "code",
   "execution_count": null,
   "metadata": {},
   "outputs": [],
   "source": []
  }
 ],
 "metadata": {
  "kernelspec": {
   "display_name": "Python 3",
   "language": "python",
   "name": "python3"
  },
  "language_info": {
   "codemirror_mode": {
    "name": "ipython",
    "version": 3
   },
   "file_extension": ".py",
   "mimetype": "text/x-python",
   "name": "python",
   "nbconvert_exporter": "python",
   "pygments_lexer": "ipython3",
   "version": "3.7.6"
  }
 },
 "nbformat": 4,
 "nbformat_minor": 2
}
