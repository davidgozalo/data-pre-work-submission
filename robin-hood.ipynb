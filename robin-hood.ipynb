{
 "cells": [
  {
   "cell_type": "markdown",
   "metadata": {},
   "source": [
    "<img src=\"https://bit.ly/2VnXWr2\" width=\"100\" align=\"left\"/>"
   ]
  },
  {
   "cell_type": "markdown",
   "metadata": {},
   "source": [
    "# Robin Hood\n",
    "Robin Hood has entered a competition to win the archery contest in Sherwood. With his bow and arrows, he needs to shoot on a target and try to hit as close as possible to the center.\n",
    "\n",
    "![](images/arrows.jpg)\n",
    "\n",
    "## Context\n",
    "In this challenge, the landing position of arrows shot by archers in the competition will be represented using 2-dimensional coordinates. \n",
    "\n",
    "In the 2-dimensional space, a point can be defined by a pair of values that correspond to the horizontal coordinate (x) and the vertical coordinate (y). For example, in our case, an arrow that hits the center of the archery target will land in position (0, 0) on the coordinate axes. \n",
    "\n",
    "The space can be divided into 4 zones (quadrants): Q1, Q2, Q3, Q4. If a point is in Q1, both its x coordinate and y coordinate are positive. Any point with a null x or y coordinate is considered to not belong to any quadrant. \n",
    "\n",
    "If you want to know more about the cartesian coordinate system, you can check this [link](https://en.wikipedia.org/wiki/Cartesian_coordinate_system). \n",
    "\n",
    "## Tools\n",
    "You don't necessarily need to use all the tools. Maybe you opt to use some of them or completely different ones, they are given to help you shape the exercise. Programming exercises can be solved in many different ways.\n",
    "* Data structures: **lists, sets, tuples**\n",
    "* Conditional statements: **if-elif-else**\n",
    "* Loop: **while/for**\n",
    "* Minimum (optional sorting)\n",
    "\n",
    "## Tasks\n",
    "Robin Hood has hit the following points:"
   ]
  },
  {
   "cell_type": "code",
   "execution_count": null,
   "metadata": {},
   "outputs": [],
   "source": [
    "points = [(4, 5), (-0, 2), (4, 7), (1, -3), (3, -2), (4, 5), (3, 2), (5, 7), (-5, 7), (2, 2), (-4, 5), (0, -2),\n",
    "          (-4, 7), (-1, 3), (-3, 2), (-4, -5), (-3, 2), (5, 7), (5, 7), (2, 2), (9, 9), (-8, -9)]"
   ]
  },
  {
   "cell_type": "markdown",
   "metadata": {},
   "source": [
    "#### 1. Robin Hood is famous for hitting an arrow with another arrow. Find the coordinates of the points where an arrow hits another arrow."
   ]
  },
  {
   "cell_type": "code",
   "execution_count": null,
   "metadata": {},
   "outputs": [],
   "source": [
    "# find the coordinates of the points where an arrow hits another arrow\n",
    "coincident_points=[]\n",
    "i=len(points)\n",
    "for j in range(0,i):\n",
    "  a=points[j]\n",
    "  a1=a[0]\n",
    "  a2=a[1]\n",
    "  for l in range (0, i):\n",
    "    b=points [l]\n",
    "    b1=b[0]\n",
    "    b2=b[1]\n",
    "    if ((a1==b1)&(a2==b2)&(j!=l)):\n",
    "      coincident_points.append((b1,b2))\n",
    "net_coincident_points=[]\n",
    "s=len(coincident_points)\n",
    "for m in range (0, s):\n",
    "  if ((coincident_points[m]) not in (net_coincident_points)):\n",
    "    net_coincident_points.append(coincident_points[m])\n",
    "t=len(net_coincident_points)\n",
    "print(\"There are\",t,\"points in which an arrow hit another arrow:\")\n",
    "print (net_coincident_points)\n",
    "print(\"\")"
   ]
  },
  {
   "cell_type": "markdown",
   "metadata": {},
   "source": [
    "#### 2. Calculate how many arrows have fallen in each quadrant. \n",
    "**Note**: the arrows that fall in the axis (x=0 or y=0) don't belong to any quadrant."
   ]
  },
  {
   "cell_type": "code",
   "execution_count": null,
   "metadata": {},
   "outputs": [],
   "source": [
    "#calculate how many arrows have fallen in each quadrant\n",
    "quadrant_1_points=[]\n",
    "quadrant_2_points=[]\n",
    "quadrant_3_points=[]\n",
    "quadrant_4_points=[]\n",
    "no_quadrant_points=[]\n",
    "q=len(points)\n",
    "for h in range (0, q):\n",
    "  a=points[h]\n",
    "  a1=a[0]\n",
    "  a2=a[1]\n",
    "  if (a1>0)&(a2>0):\n",
    "    quadrant_1_points.append(a)\n",
    "  if (a1>0)&(a2<0):\n",
    "    quadrant_4_points.append(a)\n",
    "  if (a1<0)&(a2<0):\n",
    "    quadrant_3_points.append(a)\n",
    "  if (a1<0)&(a2>0):\n",
    "    quadrant_2_points.append(a)\n",
    "  if ((a1==0)|(a2==0)):\n",
    "    no_quadrant_points.append(a)\n",
    "q1=len(quadrant_1_points)\n",
    "q2=len(quadrant_2_points)\n",
    "q3=len(quadrant_3_points)\n",
    "q4=len(quadrant_4_points)\n",
    "nq=len(no_quadrant_points)\n",
    "print(\"Out of the\",q,\"arrows\",q1,\"fell in the fist quadrant\", q2, \"fell in the second quadrant\", q3,\"fell in the third quadrant\", q4, \"fell in the fourth quadrant and\",nq,\"fell in the borders between quadrants\")\n",
    "print(\"\")"
   ]
  },
  {
   "cell_type": "markdown",
   "metadata": {},
   "source": [
    "#### 3. Find the point closest to the center. Calculate its distance to the center. \n",
    "Take into account that there might be more than one point at the minimum distance to the center.\n",
    "\n",
    "**Hint**: Use the Euclidean distance. You can find more information about it [here](https://en.wikipedia.org/wiki/Euclidean_distance).  \n",
    "**Hint**: Defining a function that calculates the distance to the center can help."
   ]
  },
  {
   "cell_type": "code",
   "execution_count": null,
   "metadata": {},
   "outputs": [],
   "source": [
    "# find the points closests to the center\n",
    "# a.calculate the distance\n",
    "points_distance=[]\n",
    "p=len(points)\n",
    "for g in range (0, p):\n",
    "  a=points[g]\n",
    "  a1=a[0]\n",
    "  a2=a[1]\n",
    "  d=((a1)**2+(a2)**2)**(0.5)\n",
    "  df=round(d,2)\n",
    "  points_distance.append(df)\n",
    "\n",
    "# b. creating a list with (order, coordinates, dinstance)\n",
    "f=len(points)\n",
    "combi=[] # the list\n",
    "comb=[] # the elements\n",
    "for i in range (0,f):\n",
    "  a=i+1\n",
    "  b=points[i]\n",
    "  c=points_distance[i]\n",
    "  k1=a\n",
    "  k2=b\n",
    "  k3=c\n",
    "  comb=[k1,k2,k3]\n",
    "  combi.append(comb)\n",
    "\n",
    "# c. sorting the combined list per distance\n",
    "sorted_combi=sorted(combi) # simple sorting\n",
    "#sorting function (I googled it)\n",
    "# take the third element for sort\n",
    "def take_third(elem):\n",
    "    return elem[2]\n",
    "# sort list with key\n",
    "sorted_combi2 = sorted(combi, key = take_third)\n",
    "\n",
    "# d. selecting the closests points\n",
    "print(\"The closest points to the center are:\")\n",
    "for i in range (0,f):\n",
    "  a0=sorted_combi2[i]\n",
    "  d0=a0[2]\n",
    "  if d0==min(points_distance):\n",
    "    z=(sorted_combi2[i])\n",
    "    print (z[1])\n",
    "print(\"\")"
   ]
  },
  {
   "cell_type": "markdown",
   "metadata": {},
   "source": [
    "#### 4. If the archery target has a radius of 9, calculate the number of arrows that won't hit the target. \n",
    "**Hint**: Use the function created in step 3. "
   ]
  },
  {
   "cell_type": "code",
   "execution_count": null,
   "metadata": {},
   "outputs": [],
   "source": [
    "#calculate the number of arrows that will not hit the target\n",
    "f=len(sorted_combi2)\n",
    "a=0\n",
    "for i in range (0,f):\n",
    "  a0=sorted_combi2[i]\n",
    "  d0=a0[2]\n",
    "  if d0>9:\n",
    "    a=a+1\n",
    "print (a,\"arrows did not hit the target:\")\n",
    "for i in range (0,f):\n",
    "  a0=sorted_combi2[i]\n",
    "  d0=a0[2]\n",
    "  if d0>9:\n",
    "    r=(sorted_combi2[i])\n",
    "    print( \"arrow number \", r[0], \"that hit the point\",r[1], \"at a distance of\", r[2])"
   ]
  }
 ],
 "metadata": {
  "kernelspec": {
   "display_name": "Python 3",
   "language": "python",
   "name": "python3"
  },
  "language_info": {
   "codemirror_mode": {
    "name": "ipython",
    "version": 3
   },
   "file_extension": ".py",
   "mimetype": "text/x-python",
   "name": "python",
   "nbconvert_exporter": "python",
   "pygments_lexer": "ipython3",
   "version": "3.7.6"
  }
 },
 "nbformat": 4,
 "nbformat_minor": 2
}
