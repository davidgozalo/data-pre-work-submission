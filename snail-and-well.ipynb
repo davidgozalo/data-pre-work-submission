{
 "cells": [
  {
   "cell_type": "markdown",
   "metadata": {},
   "source": [
    "<img src=\"https://bit.ly/2VnXWr2\" width=\"100\" align=\"left\">"
   ]
  },
  {
   "cell_type": "markdown",
   "metadata": {},
   "source": [
    "# The Snail and the Well\n",
    "\n",
    "A snail falls at the bottom of a 125 cm well. Each day the snail rises 30 cm. But at night, while sleeping, slides 20 cm because the walls are wet. How many days does it take for the snail to escape the well?\n",
    "\n",
    "**Hint**: The snail gets out of the well when it surpasses the 125cm of height.\n",
    "\n",
    "## Tools\n",
    "\n",
    "1. Loop: **while**\n",
    "2. Conditional statements: **if-else**\n",
    "3. Function: **print()**\n",
    "\n",
    "## Tasks\n",
    "\n",
    "#### 1. Assign the challenge data to variables with representative names: `well_height`, `daily_distance`, `nightly_distance` and `snail_position`."
   ]
  },
  {
   "cell_type": "code",
   "execution_count": null,
   "metadata": {},
   "outputs": [],
   "source": [
    "well_height=125\n",
    "dayly_distance=30\n",
    "nightly_distance=20\n",
    "snall_position=0\n",
    "snall_day_distance=0\n",
    "snall_night_distance=0\n",
    "snall_day_position=0"
   ]
  },
  {
   "cell_type": "markdown",
   "metadata": {},
   "source": [
    "#### 2. Create a variable `days` to keep count of the days that pass until the snail escapes the well. "
   ]
  },
  {
   "cell_type": "code",
   "execution_count": null,
   "metadata": {},
   "outputs": [],
   "source": [
    "days=0"
   ]
  },
  {
   "cell_type": "markdown",
   "metadata": {},
   "source": [
    "#### 3. Find the solution to the challenge using the variables defined above. "
   ]
  },
  {
   "cell_type": "code",
   "execution_count": null,
   "metadata": {},
   "outputs": [],
   "source": [
    "while snall_day_position<well_height:\n",
    "  days=days+1\n",
    "  snall_day_position=snall_position+dayly_distance\n",
    "  snall_night_position=snall_day_position-nightly_distance\n",
    "  snall_position=snall_night_position\n",
    "  if (snall_day_position<well_height):\n",
    "    print(\"On day\",days)\n",
    "    print(\"The snall climbed up to\", snall_day_position)\n",
    "    print(\"but slidded during the night to \",snall_night_position)\n",
    "    print(\"so it ended at \",snall_position)\n",
    "    print (\" \")\n",
    "  else:\n",
    "    print (\"and the day\", days, \"during the day, it reached the distance to escape the well\" )\n",
    "print (\" \")"
   ]
  },
  {
   "cell_type": "markdown",
   "metadata": {},
   "source": [
    "#### 4. Print the solution."
   ]
  },
  {
   "cell_type": "code",
   "execution_count": null,
   "metadata": {},
   "outputs": [],
   "source": [
    "('On day', 1)\n",
    "('The snall climbed up to', 30)\n",
    "('but slidded during the night to ', 10)\n",
    "('so it ended at ', 10)\n",
    " \n",
    "('On day', 2)\n",
    "('The snall climbed up to', 40)\n",
    "('but slidded during the night to ', 20)\n",
    "('so it ended at ', 20)\n",
    " \n",
    "('On day', 3)\n",
    "('The snall climbed up to', 50)\n",
    "('but slidded during the night to ', 30)\n",
    "('so it ended at ', 30)\n",
    " \n",
    "('On day', 4)\n",
    "('The snall climbed up to', 60)\n",
    "('but slidded during the night to ', 40)\n",
    "('so it ended at ', 40)\n",
    " \n",
    "('On day', 5)\n",
    "('The snall climbed up to', 70)\n",
    "('but slidded during the night to ', 50)\n",
    "('so it ended at ', 50)\n",
    " \n",
    "('On day', 6)\n",
    "('The snall climbed up to', 80)\n",
    "('but slidded during the night to ', 60)\n",
    "('so it ended at ', 60)\n",
    " \n",
    "('On day', 7)\n",
    "('The snall climbed up to', 90)\n",
    "('but slidded during the night to ', 70)\n",
    "('so it ended at ', 70)\n",
    " \n",
    "('On day', 8)\n",
    "('The snall climbed up to', 100)\n",
    "('but slidded during the night to ', 80)\n",
    "('so it ended at ', 80)\n",
    " \n",
    "('On day', 9)\n",
    "('The snall climbed up to', 110)\n",
    "('but slidded during the night to ', 90)\n",
    "('so it ended at ', 90)\n",
    " \n",
    "('On day', 10)\n",
    "('The snall climbed up to', 120)\n",
    "('but slidded during the night to ', 100)\n",
    "('so it ended at ', 100)\n",
    " \n",
    "('and the day', 11, 'during the day, it reached the distance to escape the well')"
   ]
  },
  {
   "cell_type": "markdown",
   "metadata": {},
   "source": [
    "## Bonus\n",
    "The distance traveled by the snail each day is now defined by a list.\n",
    "```\n",
    "advance_cm = [30, 21, 33, 77, 44, 45, 23, 45, 12, 34, 55]\n",
    "```\n",
    "On the first day, the snail rises 30cm but during the night it slides 20cm. On the second day, the snail rises 21cm but during the night it slides 20cm, and so on. \n",
    "\n",
    "#### 1. How many days does it take for the snail to escape the well?\n",
    "Follow the same guidelines as in the previous challenge.\n",
    "\n",
    "**Hint**: Remember that the snail gets out of the well when it surpasses the 125cm of height."
   ]
  },
  {
   "cell_type": "code",
   "execution_count": null,
   "metadata": {},
   "outputs": [],
   "source": []
  },
  {
   "cell_type": "markdown",
   "metadata": {},
   "source": [
    "#### 2. What is its maximum displacement in one day? And its minimum? Calculate the displacement using only the travel distance of the days used to get out of the well. \n",
    "**Hint**: Remember that displacement means the total distance risen taking into account that the snail slides at night.  "
   ]
  },
  {
   "cell_type": "code",
   "execution_count": null,
   "metadata": {},
   "outputs": [],
   "source": []
  },
  {
   "cell_type": "markdown",
   "metadata": {},
   "source": [
    "#### 3. What is its average progress? Take into account the snail slides at night."
   ]
  },
  {
   "cell_type": "code",
   "execution_count": null,
   "metadata": {},
   "outputs": [],
   "source": []
  },
  {
   "cell_type": "markdown",
   "metadata": {},
   "source": [
    "#### 4. What is the standard deviation of its displacement? Take into account the snail slides at night."
   ]
  },
  {
   "cell_type": "code",
   "execution_count": null,
   "metadata": {},
   "outputs": [],
   "source": []
  }
 ],
 "metadata": {
  "kernelspec": {
   "display_name": "Python 3",
   "language": "python",
   "name": "python3"
  },
  "language_info": {
   "codemirror_mode": {
    "name": "ipython",
    "version": 3
   },
   "file_extension": ".py",
   "mimetype": "text/x-python",
   "name": "python",
   "nbconvert_exporter": "python",
   "pygments_lexer": "ipython3",
   "version": "3.7.6"
  }
 },
 "nbformat": 4,
 "nbformat_minor": 2
}
